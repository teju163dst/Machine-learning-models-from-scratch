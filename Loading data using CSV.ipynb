{
 "cells": [
  {
   "cell_type": "code",
   "execution_count": 10,
   "metadata": {},
   "outputs": [
    {
     "name": "stdout",
     "output_type": "stream",
     "text": [
      "(4601, 58)\n",
      "(4601, 58) float32\n",
      "(4601, 58)\n",
      "(4601, 57) (4601,)\n",
      "[0.   0.64 0.64 0.   0.32]\n",
      "[0.   0.   0.   0.   0.63]\n"
     ]
    }
   ],
   "source": [
    "import csv\n",
    "import numpy as np\n",
    "import pandas as pd\n",
    "\n",
    "# Download data from https://archive.ics.uci.edu/ml/datasets/spambase\n",
    "FILE_NAME = \"spambase.data\"\n",
    "\n",
    "# 1) load with csv file\n",
    "with open(FILE_NAME, \"r\") as f:\n",
    "    data = list(csv.reader(f, delimiter=\",\"))\n",
    "\n",
    "data = np.array(data, dtype=np.float32)\n",
    "print(data.shape)\n",
    "\n",
    "# 2) load with np.loadtxt()\n",
    "# skiprows=1\n",
    "data = np.loadtxt(FILE_NAME, delimiter=\",\", dtype=np.float32)\n",
    "print(data.shape, data.dtype)\n",
    "\n",
    "# 3) load with np.genfromtxt()\n",
    "# skip_header=0, missing_values=\"---\", filling_values=0.0\n",
    "data = np.genfromtxt(FILE_NAME, delimiter=\",\", dtype=np.float32)\n",
    "print(data.shape)\n",
    "\n",
    "# split into X and y\n",
    "n_samples, n_features = data.shape\n",
    "n_features -= 1\n",
    "\n",
    "X = data[:, 0:n_features]\n",
    "y = data[:, n_features]\n",
    "\n",
    "print(X.shape, y.shape)\n",
    "print(X[0, 0:5])\n",
    "# or if y is the first column\n",
    "# X = data[:, 1:n_features+1]\n",
    "# y = data[:, 0]\n",
    "\n",
    "# 4) load with pandas: read_csv()\n",
    "# na_values = ['---']\n",
    "df = pd.read_csv(FILE_NAME, header=None, skiprows=0, dtype=np.float32)\n",
    "df = df.fillna(0.0)\n",
    "\n",
    "# dataframe to numpy\n",
    "data = df.to_numpy()\n",
    "print(data[4, 0:5])\n",
    "\n",
    "# convert datatypes in numpy\n",
    "# data = np.asarray(data, dtype = np.float32)\n",
    "# print(data.dtype)"
   ]
  },
  {
   "cell_type": "code",
   "execution_count": null,
   "metadata": {},
   "outputs": [],
   "source": []
  }
 ],
 "metadata": {
  "kernelspec": {
   "display_name": "Python 3",
   "language": "python",
   "name": "python3"
  },
  "language_info": {
   "codemirror_mode": {
    "name": "ipython",
    "version": 3
   },
   "file_extension": ".py",
   "mimetype": "text/x-python",
   "name": "python",
   "nbconvert_exporter": "python",
   "pygments_lexer": "ipython3",
   "version": "3.8.5"
  }
 },
 "nbformat": 4,
 "nbformat_minor": 4
}
